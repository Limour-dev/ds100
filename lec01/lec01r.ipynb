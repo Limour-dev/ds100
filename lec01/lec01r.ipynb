{
 "cells": [
  {
   "cell_type": "markdown",
   "id": "6fc0c2e9",
   "metadata": {},
   "source": [
    "## Software Packages\n",
    "\n",
    "We will be using a wide range of different R software packages. To install and manage these packages we will be using the Conda environment manager. The following is a list of packages we will routinely use in lectures and homeworks:"
   ]
  },
  {
   "cell_type": "code",
   "execution_count": 1,
   "id": "65ecc375",
   "metadata": {
    "scrolled": true
   },
   "outputs": [
    {
     "name": "stderr",
     "output_type": "stream",
     "text": [
      "── \u001b[1mAttaching core tidyverse packages\u001b[22m ──────────────────────── tidyverse 2.0.0 ──\n",
      "\u001b[32m✔\u001b[39m \u001b[34mdplyr    \u001b[39m 1.1.4     \u001b[32m✔\u001b[39m \u001b[34mreadr    \u001b[39m 2.1.5\n",
      "\u001b[32m✔\u001b[39m \u001b[34mforcats  \u001b[39m 1.0.0     \u001b[32m✔\u001b[39m \u001b[34mstringr  \u001b[39m 1.5.1\n",
      "\u001b[32m✔\u001b[39m \u001b[34mlubridate\u001b[39m 1.9.3     \u001b[32m✔\u001b[39m \u001b[34mtibble   \u001b[39m 3.2.1\n",
      "\u001b[32m✔\u001b[39m \u001b[34mpurrr    \u001b[39m 1.0.2     \u001b[32m✔\u001b[39m \u001b[34mtidyr    \u001b[39m 1.3.1\n",
      "── \u001b[1mConflicts\u001b[22m ────────────────────────────────────────── tidyverse_conflicts() ──\n",
      "\u001b[31m✖\u001b[39m \u001b[34mdplyr\u001b[39m::\u001b[32mfilter()\u001b[39m masks \u001b[34mstats\u001b[39m::filter()\n",
      "\u001b[31m✖\u001b[39m \u001b[34mdplyr\u001b[39m::\u001b[32mlag()\u001b[39m    masks \u001b[34mstats\u001b[39m::lag()\n",
      "\u001b[36mℹ\u001b[39m Use the conflicted package (\u001b[3m\u001b[34m<http://conflicted.r-lib.org/>\u001b[39m\u001b[23m) to force all conflicts to become errors\n"
     ]
    }
   ],
   "source": [
    "library(ggplot2)\n",
    "library(tidyverse)"
   ]
  },
  {
   "cell_type": "code",
   "execution_count": 2,
   "id": "7578b207",
   "metadata": {},
   "outputs": [],
   "source": [
    "majors = readr::read_csv(file = '../data/lec01/majors.csv', show_col_types = FALSE)\n",
    "names = readr::read_csv(file = '../data/lec01/names.csv', show_col_types = FALSE)"
   ]
  },
  {
   "cell_type": "code",
   "execution_count": 10,
   "id": "759c7d37",
   "metadata": {},
   "outputs": [
    {
     "data": {
      "text/html": [
       "<table class=\"dataframe\">\n",
       "<caption>A tibble: 20 × 2</caption>\n",
       "<thead>\n",
       "\t<tr><th scope=col>Majors</th><th scope=col>Terms in Attendance</th></tr>\n",
       "\t<tr><th scope=col>&lt;chr&gt;</th><th scope=col>&lt;chr&gt;</th></tr>\n",
       "</thead>\n",
       "<tbody>\n",
       "\t<tr><td><span style=white-space:pre-wrap>Letters &amp; Sci Undeclared UG                            </span></td><td>3</td></tr>\n",
       "\t<tr><td>Data Science BA                                        </td><td>7</td></tr>\n",
       "\t<tr><td>Economics BA                                           </td><td>8</td></tr>\n",
       "\t<tr><td><span style=white-space:pre-wrap>Letters &amp; Sci Undeclared UG                            </span></td><td>5</td></tr>\n",
       "\t<tr><td>Economics BA                                           </td><td>7</td></tr>\n",
       "\t<tr><td>Computer Science BA, Economics BA                      </td><td>7</td></tr>\n",
       "\t<tr><td>Business Administration BS, Letters &amp; Sci Undeclared UG</td><td>5</td></tr>\n",
       "\t<tr><td><span style=white-space:pre-wrap>Letters &amp; Sci Undeclared UG                            </span></td><td>5</td></tr>\n",
       "\t<tr><td>Microbial Biology BS                                   </td><td>5</td></tr>\n",
       "\t<tr><td><span style=white-space:pre-wrap>Letters &amp; Sci Undeclared UG                            </span></td><td>8</td></tr>\n",
       "\t<tr><td><span style=white-space:pre-wrap>Letters &amp; Sci Undeclared UG                            </span></td><td>3</td></tr>\n",
       "\t<tr><td><span style=white-space:pre-wrap>Letters &amp; Sci Undeclared UG                            </span></td><td>5</td></tr>\n",
       "\t<tr><td>Data Science BA, Society and Environment BS            </td><td>5</td></tr>\n",
       "\t<tr><td><span style=white-space:pre-wrap>Letters &amp; Sci Undeclared UG                            </span></td><td>3</td></tr>\n",
       "\t<tr><td><span style=white-space:pre-wrap>Letters &amp; Sci Undeclared UG, Microbial Biology BS      </span></td><td>5</td></tr>\n",
       "\t<tr><td><span style=white-space:pre-wrap>Letters &amp; Sci Undeclared UG, Nutritional Science BS    </span></td><td>5</td></tr>\n",
       "\t<tr><td><span style=white-space:pre-wrap>Letters &amp; Sci Undeclared UG                            </span></td><td>3</td></tr>\n",
       "\t<tr><td>Chemistry BS                                           </td><td>5</td></tr>\n",
       "\t<tr><td>Applied Mathematics BA                                 </td><td>7</td></tr>\n",
       "\t<tr><td><span style=white-space:pre-wrap>Letters &amp; Sci Undeclared UG                            </span></td><td>3</td></tr>\n",
       "</tbody>\n",
       "</table>\n"
      ],
      "text/latex": [
       "A tibble: 20 × 2\n",
       "\\begin{tabular}{ll}\n",
       " Majors & Terms in Attendance\\\\\n",
       " <chr> & <chr>\\\\\n",
       "\\hline\n",
       "\t Letters \\& Sci Undeclared UG                             & 3\\\\\n",
       "\t Data Science BA                                         & 7\\\\\n",
       "\t Economics BA                                            & 8\\\\\n",
       "\t Letters \\& Sci Undeclared UG                             & 5\\\\\n",
       "\t Economics BA                                            & 7\\\\\n",
       "\t Computer Science BA, Economics BA                       & 7\\\\\n",
       "\t Business Administration BS, Letters \\& Sci Undeclared UG & 5\\\\\n",
       "\t Letters \\& Sci Undeclared UG                             & 5\\\\\n",
       "\t Microbial Biology BS                                    & 5\\\\\n",
       "\t Letters \\& Sci Undeclared UG                             & 8\\\\\n",
       "\t Letters \\& Sci Undeclared UG                             & 3\\\\\n",
       "\t Letters \\& Sci Undeclared UG                             & 5\\\\\n",
       "\t Data Science BA, Society and Environment BS             & 5\\\\\n",
       "\t Letters \\& Sci Undeclared UG                             & 3\\\\\n",
       "\t Letters \\& Sci Undeclared UG, Microbial Biology BS       & 5\\\\\n",
       "\t Letters \\& Sci Undeclared UG, Nutritional Science BS     & 5\\\\\n",
       "\t Letters \\& Sci Undeclared UG                             & 3\\\\\n",
       "\t Chemistry BS                                            & 5\\\\\n",
       "\t Applied Mathematics BA                                  & 7\\\\\n",
       "\t Letters \\& Sci Undeclared UG                             & 3\\\\\n",
       "\\end{tabular}\n"
      ],
      "text/markdown": [
       "\n",
       "A tibble: 20 × 2\n",
       "\n",
       "| Majors &lt;chr&gt; | Terms in Attendance &lt;chr&gt; |\n",
       "|---|---|\n",
       "| Letters &amp; Sci Undeclared UG                             | 3 |\n",
       "| Data Science BA                                         | 7 |\n",
       "| Economics BA                                            | 8 |\n",
       "| Letters &amp; Sci Undeclared UG                             | 5 |\n",
       "| Economics BA                                            | 7 |\n",
       "| Computer Science BA, Economics BA                       | 7 |\n",
       "| Business Administration BS, Letters &amp; Sci Undeclared UG | 5 |\n",
       "| Letters &amp; Sci Undeclared UG                             | 5 |\n",
       "| Microbial Biology BS                                    | 5 |\n",
       "| Letters &amp; Sci Undeclared UG                             | 8 |\n",
       "| Letters &amp; Sci Undeclared UG                             | 3 |\n",
       "| Letters &amp; Sci Undeclared UG                             | 5 |\n",
       "| Data Science BA, Society and Environment BS             | 5 |\n",
       "| Letters &amp; Sci Undeclared UG                             | 3 |\n",
       "| Letters &amp; Sci Undeclared UG, Microbial Biology BS       | 5 |\n",
       "| Letters &amp; Sci Undeclared UG, Nutritional Science BS     | 5 |\n",
       "| Letters &amp; Sci Undeclared UG                             | 3 |\n",
       "| Chemistry BS                                            | 5 |\n",
       "| Applied Mathematics BA                                  | 7 |\n",
       "| Letters &amp; Sci Undeclared UG                             | 3 |\n",
       "\n"
      ],
      "text/plain": [
       "   Majors                                                  Terms in Attendance\n",
       "1  Letters & Sci Undeclared UG                             3                  \n",
       "2  Data Science BA                                         7                  \n",
       "3  Economics BA                                            8                  \n",
       "4  Letters & Sci Undeclared UG                             5                  \n",
       "5  Economics BA                                            7                  \n",
       "6  Computer Science BA, Economics BA                       7                  \n",
       "7  Business Administration BS, Letters & Sci Undeclared UG 5                  \n",
       "8  Letters & Sci Undeclared UG                             5                  \n",
       "9  Microbial Biology BS                                    5                  \n",
       "10 Letters & Sci Undeclared UG                             8                  \n",
       "11 Letters & Sci Undeclared UG                             3                  \n",
       "12 Letters & Sci Undeclared UG                             5                  \n",
       "13 Data Science BA, Society and Environment BS             5                  \n",
       "14 Letters & Sci Undeclared UG                             3                  \n",
       "15 Letters & Sci Undeclared UG, Microbial Biology BS       5                  \n",
       "16 Letters & Sci Undeclared UG, Nutritional Science BS     5                  \n",
       "17 Letters & Sci Undeclared UG                             3                  \n",
       "18 Chemistry BS                                            5                  \n",
       "19 Applied Mathematics BA                                  7                  \n",
       "20 Letters & Sci Undeclared UG                             3                  "
      ]
     },
     "metadata": {},
     "output_type": "display_data"
    },
    {
     "data": {
      "text/html": [
       "<table class=\"dataframe\">\n",
       "<caption>A tibble: 6 × 2</caption>\n",
       "<thead>\n",
       "\t<tr><th scope=col>Name</th><th scope=col>Role</th></tr>\n",
       "\t<tr><th scope=col>&lt;chr&gt;</th><th scope=col>&lt;chr&gt;</th></tr>\n",
       "</thead>\n",
       "<tbody>\n",
       "\t<tr><td>emily   </td><td>Student</td></tr>\n",
       "\t<tr><td>zoe     </td><td>Student</td></tr>\n",
       "\t<tr><td>michelle</td><td>Student</td></tr>\n",
       "\t<tr><td>james   </td><td>Student</td></tr>\n",
       "\t<tr><td>jenny   </td><td>Student</td></tr>\n",
       "\t<tr><td>james   </td><td>Student</td></tr>\n",
       "</tbody>\n",
       "</table>\n"
      ],
      "text/latex": [
       "A tibble: 6 × 2\n",
       "\\begin{tabular}{ll}\n",
       " Name & Role\\\\\n",
       " <chr> & <chr>\\\\\n",
       "\\hline\n",
       "\t emily    & Student\\\\\n",
       "\t zoe      & Student\\\\\n",
       "\t michelle & Student\\\\\n",
       "\t james    & Student\\\\\n",
       "\t jenny    & Student\\\\\n",
       "\t james    & Student\\\\\n",
       "\\end{tabular}\n"
      ],
      "text/markdown": [
       "\n",
       "A tibble: 6 × 2\n",
       "\n",
       "| Name &lt;chr&gt; | Role &lt;chr&gt; |\n",
       "|---|---|\n",
       "| emily    | Student |\n",
       "| zoe      | Student |\n",
       "| michelle | Student |\n",
       "| james    | Student |\n",
       "| jenny    | Student |\n",
       "| james    | Student |\n",
       "\n"
      ],
      "text/plain": [
       "  Name     Role   \n",
       "1 emily    Student\n",
       "2 zoe      Student\n",
       "3 michelle Student\n",
       "4 james    Student\n",
       "5 jenny    Student\n",
       "6 james    Student"
      ]
     },
     "metadata": {},
     "output_type": "display_data"
    }
   ],
   "source": [
    "majors %>% head(n = 20)\n",
    "names %>% head()"
   ]
  },
  {
   "cell_type": "code",
   "execution_count": 7,
   "id": "037ec99e",
   "metadata": {},
   "outputs": [],
   "source": [
    "names <- names %>% mutate(Name = tolower(Name))"
   ]
  },
  {
   "cell_type": "code",
   "execution_count": 9,
   "id": "c887f39a",
   "metadata": {},
   "outputs": [
    {
     "data": {
      "text/html": [
       "<table class=\"dataframe\">\n",
       "<caption>A tibble: 6 × 2</caption>\n",
       "<thead>\n",
       "\t<tr><th scope=col>Name</th><th scope=col>Role</th></tr>\n",
       "\t<tr><th scope=col>&lt;chr&gt;</th><th scope=col>&lt;chr&gt;</th></tr>\n",
       "</thead>\n",
       "<tbody>\n",
       "\t<tr><td>emily   </td><td>Student</td></tr>\n",
       "\t<tr><td>zoe     </td><td>Student</td></tr>\n",
       "\t<tr><td>michelle</td><td>Student</td></tr>\n",
       "\t<tr><td>james   </td><td>Student</td></tr>\n",
       "\t<tr><td>jenny   </td><td>Student</td></tr>\n",
       "\t<tr><td>james   </td><td>Student</td></tr>\n",
       "</tbody>\n",
       "</table>\n"
      ],
      "text/latex": [
       "A tibble: 6 × 2\n",
       "\\begin{tabular}{ll}\n",
       " Name & Role\\\\\n",
       " <chr> & <chr>\\\\\n",
       "\\hline\n",
       "\t emily    & Student\\\\\n",
       "\t zoe      & Student\\\\\n",
       "\t michelle & Student\\\\\n",
       "\t james    & Student\\\\\n",
       "\t jenny    & Student\\\\\n",
       "\t james    & Student\\\\\n",
       "\\end{tabular}\n"
      ],
      "text/markdown": [
       "\n",
       "A tibble: 6 × 2\n",
       "\n",
       "| Name &lt;chr&gt; | Role &lt;chr&gt; |\n",
       "|---|---|\n",
       "| emily    | Student |\n",
       "| zoe      | Student |\n",
       "| michelle | Student |\n",
       "| james    | Student |\n",
       "| jenny    | Student |\n",
       "| james    | Student |\n",
       "\n"
      ],
      "text/plain": [
       "  Name     Role   \n",
       "1 emily    Student\n",
       "2 zoe      Student\n",
       "3 michelle Student\n",
       "4 james    Student\n",
       "5 jenny    Student\n",
       "6 james    Student"
      ]
     },
     "metadata": {},
     "output_type": "display_data"
    }
   ],
   "source": [
    "names %>% head()"
   ]
  },
  {
   "cell_type": "code",
   "execution_count": 13,
   "id": "c3e12388",
   "metadata": {},
   "outputs": [
    {
     "data": {
      "text/html": [
       "<table class=\"dataframe\">\n",
       "<caption>A tibble: 6 × 2</caption>\n",
       "<thead>\n",
       "\t<tr><th scope=col>first_letter</th><th scope=col>n</th></tr>\n",
       "\t<tr><th scope=col>&lt;fct&gt;</th><th scope=col>&lt;int&gt;</th></tr>\n",
       "</thead>\n",
       "<tbody>\n",
       "\t<tr><td>a</td><td>192</td></tr>\n",
       "\t<tr><td>j</td><td>137</td></tr>\n",
       "\t<tr><td>s</td><td>130</td></tr>\n",
       "\t<tr><td>m</td><td> 97</td></tr>\n",
       "\t<tr><td>e</td><td> 72</td></tr>\n",
       "\t<tr><td>c</td><td> 68</td></tr>\n",
       "</tbody>\n",
       "</table>\n"
      ],
      "text/latex": [
       "A tibble: 6 × 2\n",
       "\\begin{tabular}{ll}\n",
       " first\\_letter & n\\\\\n",
       " <fct> & <int>\\\\\n",
       "\\hline\n",
       "\t a & 192\\\\\n",
       "\t j & 137\\\\\n",
       "\t s & 130\\\\\n",
       "\t m &  97\\\\\n",
       "\t e &  72\\\\\n",
       "\t c &  68\\\\\n",
       "\\end{tabular}\n"
      ],
      "text/markdown": [
       "\n",
       "A tibble: 6 × 2\n",
       "\n",
       "| first_letter &lt;fct&gt; | n &lt;int&gt; |\n",
       "|---|---|\n",
       "| a | 192 |\n",
       "| j | 137 |\n",
       "| s | 130 |\n",
       "| m |  97 |\n",
       "| e |  72 |\n",
       "| c |  68 |\n",
       "\n"
      ],
      "text/plain": [
       "  first_letter n  \n",
       "1 a            192\n",
       "2 j            137\n",
       "3 s            130\n",
       "4 m             97\n",
       "5 e             72\n",
       "6 c             68"
      ]
     },
     "metadata": {},
     "output_type": "display_data"
    }
   ],
   "source": [
    "first_letter <- names %>%\n",
    "  count(first_letter = str_sub(`Name`, 1, 1), sort = TRUE,) %>% \n",
    "  mutate(first_letter = factor(first_letter, levels = first_letter))\n",
    "first_letter  %>% head()"
   ]
  },
  {
   "cell_type": "code",
   "execution_count": 14,
   "id": "f5216d54",
   "metadata": {},
   "outputs": [
    {
     "data": {
      "image/png": "[encoded data removed]",
      "text/plain": [
       "plot without title"
      ]
     },
     "metadata": {
      "image/png": {
       "height": 420,
       "width": 420
      }
     },
     "output_type": "display_data"
    }
   ],
   "source": [
    "ggplot(first_letter, aes(x = first_letter, y = n)) +\n",
    "  geom_bar(stat = \"identity\") +\n",
    "  xlab('First Letter') +\n",
    "  ylab('Frequency') +\n",
    "  ggtitle('First Letter Frequency Distribution')"
   ]
  },
  {
   "cell_type": "code",
   "execution_count": 16,
   "id": "6bfbc180",
   "metadata": {},
   "outputs": [
    {
     "data": {
      "image/png": "[encoded data removed]",
      "text/plain": [
       "plot without title"
      ]
     },
     "metadata": {
      "image/png": {
       "height": 420,
       "width": 420
      }
     },
     "output_type": "display_data"
    }
   ],
   "source": [
    "ggplot(names, aes(x = str_length(Name))) +\n",
    "  geom_histogram(binwidth = 1, fill = \"blue\", color = \"black\") +\n",
    "  labs(title = \"Distribution of Length of Names\", x = \"Name Length\", y = \"Frequency\") +\n",
    "  theme_minimal()"
   ]
  },
  {
   "cell_type": "code",
   "execution_count": 63,
   "id": "9a4bbd1e",
   "metadata": {},
   "outputs": [
    {
     "data": {
      "text/html": [
       "<table class=\"dataframe\">\n",
       "<caption>A spec_tbl_df: 2 × 2</caption>\n",
       "<thead>\n",
       "\t<tr><th scope=col>Role</th><th scope=col>n</th></tr>\n",
       "\t<tr><th scope=col>&lt;chr&gt;</th><th scope=col>&lt;int&gt;</th></tr>\n",
       "</thead>\n",
       "<tbody>\n",
       "\t<tr><td>#REF!  </td><td>   1</td></tr>\n",
       "\t<tr><td>Student</td><td>1290</td></tr>\n",
       "</tbody>\n",
       "</table>\n"
      ],
      "text/latex": [
       "A spec\\_tbl\\_df: 2 × 2\n",
       "\\begin{tabular}{ll}\n",
       " Role & n\\\\\n",
       " <chr> & <int>\\\\\n",
       "\\hline\n",
       "\t \\#REF!   &    1\\\\\n",
       "\t Student & 1290\\\\\n",
       "\\end{tabular}\n"
      ],
      "text/markdown": [
       "\n",
       "A spec_tbl_df: 2 × 2\n",
       "\n",
       "| Role &lt;chr&gt; | n &lt;int&gt; |\n",
       "|---|---|\n",
       "| #REF!   |    1 |\n",
       "| Student | 1290 |\n",
       "\n"
      ],
      "text/plain": [
       "  Role    n   \n",
       "1 #REF!      1\n",
       "2 Student 1290"
      ]
     },
     "metadata": {},
     "output_type": "display_data"
    }
   ],
   "source": [
    "names %>% count(Role)"
   ]
  },
  {
   "cell_type": "code",
   "execution_count": 17,
   "id": "a2761361",
   "metadata": {},
   "outputs": [],
   "source": [
    "names  <- names %>% subset(Role != '#REF!')"
   ]
  },
  {
   "cell_type": "code",
   "execution_count": 18,
   "id": "5752113d",
   "metadata": {},
   "outputs": [
    {
     "data": {
      "text/html": [
       "<table class=\"dataframe\">\n",
       "<caption>A tibble: 1 × 2</caption>\n",
       "<thead>\n",
       "\t<tr><th scope=col>Role</th><th scope=col>n</th></tr>\n",
       "\t<tr><th scope=col>&lt;chr&gt;</th><th scope=col>&lt;int&gt;</th></tr>\n",
       "</thead>\n",
       "<tbody>\n",
       "\t<tr><td>Student</td><td>1290</td></tr>\n",
       "</tbody>\n",
       "</table>\n"
      ],
      "text/latex": [
       "A tibble: 1 × 2\n",
       "\\begin{tabular}{ll}\n",
       " Role & n\\\\\n",
       " <chr> & <int>\\\\\n",
       "\\hline\n",
       "\t Student & 1290\\\\\n",
       "\\end{tabular}\n"
      ],
      "text/markdown": [
       "\n",
       "A tibble: 1 × 2\n",
       "\n",
       "| Role &lt;chr&gt; | n &lt;int&gt; |\n",
       "|---|---|\n",
       "| Student | 1290 |\n",
       "\n"
      ],
      "text/plain": [
       "  Role    n   \n",
       "1 Student 1290"
      ]
     },
     "metadata": {},
     "output_type": "display_data"
    }
   ],
   "source": [
    "names %>% count(Role)"
   ]
  },
  {
   "cell_type": "code",
   "execution_count": 71,
   "id": "a12de67b",
   "metadata": {},
   "outputs": [
    {
     "data": {
      "text/html": [
       "<table class=\"dataframe\">\n",
       "<caption>A spec_tbl_df: 8 × 2</caption>\n",
       "<thead>\n",
       "\t<tr><th scope=col>Terms in Attendance</th><th scope=col>n</th></tr>\n",
       "\t<tr><th scope=col>&lt;chr&gt;</th><th scope=col>&lt;int&gt;</th></tr>\n",
       "</thead>\n",
       "<tbody>\n",
       "\t<tr><td>#REF!</td><td>  1</td></tr>\n",
       "\t<tr><td>3    </td><td>171</td></tr>\n",
       "\t<tr><td>4    </td><td>  8</td></tr>\n",
       "\t<tr><td>5    </td><td>539</td></tr>\n",
       "\t<tr><td>6    </td><td> 22</td></tr>\n",
       "\t<tr><td>7    </td><td>351</td></tr>\n",
       "\t<tr><td>8    </td><td> 75</td></tr>\n",
       "\t<tr><td>G    </td><td>124</td></tr>\n",
       "</tbody>\n",
       "</table>\n"
      ],
      "text/latex": [
       "A spec\\_tbl\\_df: 8 × 2\n",
       "\\begin{tabular}{ll}\n",
       " Terms in Attendance & n\\\\\n",
       " <chr> & <int>\\\\\n",
       "\\hline\n",
       "\t \\#REF! &   1\\\\\n",
       "\t 3     & 171\\\\\n",
       "\t 4     &   8\\\\\n",
       "\t 5     & 539\\\\\n",
       "\t 6     &  22\\\\\n",
       "\t 7     & 351\\\\\n",
       "\t 8     &  75\\\\\n",
       "\t G     & 124\\\\\n",
       "\\end{tabular}\n"
      ],
      "text/markdown": [
       "\n",
       "A spec_tbl_df: 8 × 2\n",
       "\n",
       "| Terms in Attendance &lt;chr&gt; | n &lt;int&gt; |\n",
       "|---|---|\n",
       "| #REF! |   1 |\n",
       "| 3     | 171 |\n",
       "| 4     |   8 |\n",
       "| 5     | 539 |\n",
       "| 6     |  22 |\n",
       "| 7     | 351 |\n",
       "| 8     |  75 |\n",
       "| G     | 124 |\n",
       "\n"
      ],
      "text/plain": [
       "  Terms in Attendance n  \n",
       "1 #REF!                 1\n",
       "2 3                   171\n",
       "3 4                     8\n",
       "4 5                   539\n",
       "5 6                    22\n",
       "6 7                   351\n",
       "7 8                    75\n",
       "8 G                   124"
      ]
     },
     "metadata": {},
     "output_type": "display_data"
    }
   ],
   "source": [
    "majors %>% count(`Terms in Attendance`)"
   ]
  },
  {
   "cell_type": "code",
   "execution_count": 19,
   "id": "fff8e7bf",
   "metadata": {},
   "outputs": [],
   "source": [
    "majors  <- majors %>% subset(`Terms in Attendance` != '#REF!')"
   ]
  },
  {
   "cell_type": "code",
   "execution_count": 20,
   "id": "b772764e",
   "metadata": {},
   "outputs": [
    {
     "data": {
      "text/html": [
       "<table class=\"dataframe\">\n",
       "<caption>A tibble: 7 × 2</caption>\n",
       "<thead>\n",
       "\t<tr><th scope=col>Terms in Attendance</th><th scope=col>n</th></tr>\n",
       "\t<tr><th scope=col>&lt;chr&gt;</th><th scope=col>&lt;int&gt;</th></tr>\n",
       "</thead>\n",
       "<tbody>\n",
       "\t<tr><td>3</td><td>171</td></tr>\n",
       "\t<tr><td>4</td><td>  8</td></tr>\n",
       "\t<tr><td>5</td><td>539</td></tr>\n",
       "\t<tr><td>6</td><td> 22</td></tr>\n",
       "\t<tr><td>7</td><td>351</td></tr>\n",
       "\t<tr><td>8</td><td> 75</td></tr>\n",
       "\t<tr><td>G</td><td>124</td></tr>\n",
       "</tbody>\n",
       "</table>\n"
      ],
      "text/latex": [
       "A tibble: 7 × 2\n",
       "\\begin{tabular}{ll}\n",
       " Terms in Attendance & n\\\\\n",
       " <chr> & <int>\\\\\n",
       "\\hline\n",
       "\t 3 & 171\\\\\n",
       "\t 4 &   8\\\\\n",
       "\t 5 & 539\\\\\n",
       "\t 6 &  22\\\\\n",
       "\t 7 & 351\\\\\n",
       "\t 8 &  75\\\\\n",
       "\t G & 124\\\\\n",
       "\\end{tabular}\n"
      ],
      "text/markdown": [
       "\n",
       "A tibble: 7 × 2\n",
       "\n",
       "| Terms in Attendance &lt;chr&gt; | n &lt;int&gt; |\n",
       "|---|---|\n",
       "| 3 | 171 |\n",
       "| 4 |   8 |\n",
       "| 5 | 539 |\n",
       "| 6 |  22 |\n",
       "| 7 | 351 |\n",
       "| 8 |  75 |\n",
       "| G | 124 |\n",
       "\n"
      ],
      "text/plain": [
       "  Terms in Attendance n  \n",
       "1 3                   171\n",
       "2 4                     8\n",
       "3 5                   539\n",
       "4 6                    22\n",
       "5 7                   351\n",
       "6 8                    75\n",
       "7 G                   124"
      ]
     },
     "metadata": {},
     "output_type": "display_data"
    }
   ],
   "source": [
    "majors %>% count(`Terms in Attendance`)"
   ]
  },
  {
   "cell_type": "code",
   "execution_count": 74,
   "id": "dded3dda",
   "metadata": {
    "scrolled": true
   },
   "outputs": [
    {
     "data": {
      "text/plain": [
       "     Name               Role          \n",
       " Length:1290        Length:1290       \n",
       " Class :character   Class :character  \n",
       " Mode  :character   Mode  :character  "
      ]
     },
     "metadata": {},
     "output_type": "display_data"
    }
   ],
   "source": [
    "summary(names)"
   ]
  },
  {
   "cell_type": "code",
   "execution_count": 75,
   "id": "90bd7dbc",
   "metadata": {},
   "outputs": [
    {
     "data": {
      "text/plain": [
       "    Majors          Terms in Attendance\n",
       " Length:1290        Length:1290        \n",
       " Class :character   Class :character   \n",
       " Mode  :character   Mode  :character   "
      ]
     },
     "metadata": {},
     "output_type": "display_data"
    }
   ],
   "source": [
    "summary(majors)"
   ]
  },
  {
   "cell_type": "code",
   "execution_count": 44,
   "id": "79c0ec61",
   "metadata": {},
   "outputs": [],
   "source": [
    "majors_count = majors %>% count(Majors) %>% arrange(desc(n)) %>% head(n=20)"
   ]
  },
  {
   "cell_type": "code",
   "execution_count": 45,
   "id": "b8fa3154",
   "metadata": {},
   "outputs": [
    {
     "data": {
      "text/html": [
       "<table class=\"dataframe\">\n",
       "<caption>A tibble: 20 × 2</caption>\n",
       "<thead>\n",
       "\t<tr><th scope=col>Majors</th><th scope=col>n</th></tr>\n",
       "\t<tr><th scope=col>&lt;chr&gt;</th><th scope=col>&lt;int&gt;</th></tr>\n",
       "</thead>\n",
       "<tbody>\n",
       "\t<tr><td><span style=white-space:pre-wrap>Letters &amp; Sci Undeclared UG                            </span></td><td>353</td></tr>\n",
       "\t<tr><td>Data Science BA                                        </td><td>129</td></tr>\n",
       "\t<tr><td>Computer Science BA                                    </td><td>124</td></tr>\n",
       "\t<tr><td><span style=white-space:pre-wrap>Electrical Eng &amp; Comp Sci BS                           </span></td><td> 69</td></tr>\n",
       "\t<tr><td>Economics BA                                           </td><td> 65</td></tr>\n",
       "\t<tr><td>Cognitive Science BA                                   </td><td> 29</td></tr>\n",
       "\t<tr><td><span style=white-space:pre-wrap>Electrical Eng &amp; Comp Sci MEng                         </span></td><td> 25</td></tr>\n",
       "\t<tr><td>Applied Mathematics BA                                 </td><td> 24</td></tr>\n",
       "\t<tr><td>Civil Engineering BS                                   </td><td> 22</td></tr>\n",
       "\t<tr><td>Business Administration BS, Letters &amp; Sci Undeclared UG</td><td> 19</td></tr>\n",
       "\t<tr><td><span style=white-space:pre-wrap>Mol Sci &amp; Software Engin MMSSE                         </span></td><td> 19</td></tr>\n",
       "\t<tr><td>Data Science BA, Economics BA                          </td><td> 17</td></tr>\n",
       "\t<tr><td>Chemical Engineering BS                                </td><td> 15</td></tr>\n",
       "\t<tr><td>Development Engineering MDE                            </td><td> 13</td></tr>\n",
       "\t<tr><td>Public Policy MPP                                      </td><td> 12</td></tr>\n",
       "\t<tr><td>Computer Science BA, Data Science BA                   </td><td> 11</td></tr>\n",
       "\t<tr><td><span style=white-space:pre-wrap>Info Mgmt &amp; Systems MIMS                               </span></td><td> 10</td></tr>\n",
       "\t<tr><td><span style=white-space:pre-wrap>Molecular &amp; Cell Biology BA                            </span></td><td> 10</td></tr>\n",
       "\t<tr><td>Bioengineering BS                                      </td><td>  9</td></tr>\n",
       "\t<tr><td>Business Administration BS, Computer Science BA        </td><td>  8</td></tr>\n",
       "</tbody>\n",
       "</table>\n"
      ],
      "text/latex": [
       "A tibble: 20 × 2\n",
       "\\begin{tabular}{ll}\n",
       " Majors & n\\\\\n",
       " <chr> & <int>\\\\\n",
       "\\hline\n",
       "\t Letters \\& Sci Undeclared UG                             & 353\\\\\n",
       "\t Data Science BA                                         & 129\\\\\n",
       "\t Computer Science BA                                     & 124\\\\\n",
       "\t Electrical Eng \\& Comp Sci BS                            &  69\\\\\n",
       "\t Economics BA                                            &  65\\\\\n",
       "\t Cognitive Science BA                                    &  29\\\\\n",
       "\t Electrical Eng \\& Comp Sci MEng                          &  25\\\\\n",
       "\t Applied Mathematics BA                                  &  24\\\\\n",
       "\t Civil Engineering BS                                    &  22\\\\\n",
       "\t Business Administration BS, Letters \\& Sci Undeclared UG &  19\\\\\n",
       "\t Mol Sci \\& Software Engin MMSSE                          &  19\\\\\n",
       "\t Data Science BA, Economics BA                           &  17\\\\\n",
       "\t Chemical Engineering BS                                 &  15\\\\\n",
       "\t Development Engineering MDE                             &  13\\\\\n",
       "\t Public Policy MPP                                       &  12\\\\\n",
       "\t Computer Science BA, Data Science BA                    &  11\\\\\n",
       "\t Info Mgmt \\& Systems MIMS                                &  10\\\\\n",
       "\t Molecular \\& Cell Biology BA                             &  10\\\\\n",
       "\t Bioengineering BS                                       &   9\\\\\n",
       "\t Business Administration BS, Computer Science BA         &   8\\\\\n",
       "\\end{tabular}\n"
      ],
      "text/markdown": [
       "\n",
       "A tibble: 20 × 2\n",
       "\n",
       "| Majors &lt;chr&gt; | n &lt;int&gt; |\n",
       "|---|---|\n",
       "| Letters &amp; Sci Undeclared UG                             | 353 |\n",
       "| Data Science BA                                         | 129 |\n",
       "| Computer Science BA                                     | 124 |\n",
       "| Electrical Eng &amp; Comp Sci BS                            |  69 |\n",
       "| Economics BA                                            |  65 |\n",
       "| Cognitive Science BA                                    |  29 |\n",
       "| Electrical Eng &amp; Comp Sci MEng                          |  25 |\n",
       "| Applied Mathematics BA                                  |  24 |\n",
       "| Civil Engineering BS                                    |  22 |\n",
       "| Business Administration BS, Letters &amp; Sci Undeclared UG |  19 |\n",
       "| Mol Sci &amp; Software Engin MMSSE                          |  19 |\n",
       "| Data Science BA, Economics BA                           |  17 |\n",
       "| Chemical Engineering BS                                 |  15 |\n",
       "| Development Engineering MDE                             |  13 |\n",
       "| Public Policy MPP                                       |  12 |\n",
       "| Computer Science BA, Data Science BA                    |  11 |\n",
       "| Info Mgmt &amp; Systems MIMS                                |  10 |\n",
       "| Molecular &amp; Cell Biology BA                             |  10 |\n",
       "| Bioengineering BS                                       |   9 |\n",
       "| Business Administration BS, Computer Science BA         |   8 |\n",
       "\n"
      ],
      "text/plain": [
       "   Majors                                                  n  \n",
       "1  Letters & Sci Undeclared UG                             353\n",
       "2  Data Science BA                                         129\n",
       "3  Computer Science BA                                     124\n",
       "4  Electrical Eng & Comp Sci BS                             69\n",
       "5  Economics BA                                             65\n",
       "6  Cognitive Science BA                                     29\n",
       "7  Electrical Eng & Comp Sci MEng                           25\n",
       "8  Applied Mathematics BA                                   24\n",
       "9  Civil Engineering BS                                     22\n",
       "10 Business Administration BS, Letters & Sci Undeclared UG  19\n",
       "11 Mol Sci & Software Engin MMSSE                           19\n",
       "12 Data Science BA, Economics BA                            17\n",
       "13 Chemical Engineering BS                                  15\n",
       "14 Development Engineering MDE                              13\n",
       "15 Public Policy MPP                                        12\n",
       "16 Computer Science BA, Data Science BA                     11\n",
       "17 Info Mgmt & Systems MIMS                                 10\n",
       "18 Molecular & Cell Biology BA                              10\n",
       "19 Bioengineering BS                                         9\n",
       "20 Business Administration BS, Computer Science BA           8"
      ]
     },
     "metadata": {},
     "output_type": "display_data"
    }
   ],
   "source": [
    "majors_count"
   ]
  },
  {
   "cell_type": "code",
   "execution_count": 47,
   "id": "35c4a21e",
   "metadata": {},
   "outputs": [
    {
     "data": {
      "image/png": "[encoded data removed]",
      "text/plain": [
       "plot without title"
      ]
     },
     "metadata": {
      "image/png": {
       "height": 420,
       "width": 420
      }
     },
     "output_type": "display_data"
    }
   ],
   "source": [
    "ggplot(majors_count, aes(x = factor(Majors, levels = rev(Majors)), y = n)) +\n",
    "  geom_bar(stat = \"identity\") +\n",
    "  coord_flip() +\n",
    "  xlab('Major') +\n",
    "  ylab('Count') +\n",
    "  ggtitle('First Letter Frequency Distribution')"
   ]
  },
  {
   "cell_type": "code",
   "execution_count": 49,
   "id": "a8f8e456",
   "metadata": {},
   "outputs": [],
   "source": [
    "majors <- majors %>% \n",
    "    mutate(`Terms in Attendance` = if_else(`Terms in Attendance` != 'G','Undergraduate', 'Graduate'))"
   ]
  },
  {
   "cell_type": "code",
   "execution_count": 58,
   "id": "bbe55bf6",
   "metadata": {},
   "outputs": [],
   "source": [
    "majors <- majors %>% rename(`Ungrad Grad` = `Terms in Attendance`)"
   ]
  },
  {
   "cell_type": "code",
   "execution_count": 59,
   "id": "7e98f36c",
   "metadata": {},
   "outputs": [
    {
     "data": {
      "text/html": [
       "<table class=\"dataframe\">\n",
       "<caption>A tibble: 2 × 2</caption>\n",
       "<thead>\n",
       "\t<tr><th scope=col>Ungrad Grad</th><th scope=col>n</th></tr>\n",
       "\t<tr><th scope=col>&lt;chr&gt;</th><th scope=col>&lt;int&gt;</th></tr>\n",
       "</thead>\n",
       "<tbody>\n",
       "\t<tr><td>Graduate     </td><td> 124</td></tr>\n",
       "\t<tr><td>Undergraduate</td><td>1166</td></tr>\n",
       "</tbody>\n",
       "</table>\n"
      ],
      "text/latex": [
       "A tibble: 2 × 2\n",
       "\\begin{tabular}{ll}\n",
       " Ungrad Grad & n\\\\\n",
       " <chr> & <int>\\\\\n",
       "\\hline\n",
       "\t Graduate      &  124\\\\\n",
       "\t Undergraduate & 1166\\\\\n",
       "\\end{tabular}\n"
      ],
      "text/markdown": [
       "\n",
       "A tibble: 2 × 2\n",
       "\n",
       "| Ungrad Grad &lt;chr&gt; | n &lt;int&gt; |\n",
       "|---|---|\n",
       "| Graduate      |  124 |\n",
       "| Undergraduate | 1166 |\n",
       "\n"
      ],
      "text/plain": [
       "  Ungrad Grad   n   \n",
       "1 Graduate       124\n",
       "2 Undergraduate 1166"
      ]
     },
     "metadata": {},
     "output_type": "display_data"
    }
   ],
   "source": [
    "majors %>% count(`Ungrad Grad`)"
   ]
  },
  {
   "cell_type": "markdown",
   "id": "5f2bf99a",
   "metadata": {},
   "source": [
    "## UC Berkeley Student Headcount by Major and Demographics"
   ]
  },
  {
   "cell_type": "code",
   "execution_count": 60,
   "id": "e8604148",
   "metadata": {},
   "outputs": [
    {
     "name": "stderr",
     "output_type": "stream",
     "text": [
      "\u001b[1m\u001b[22mNew names:\n",
      "\u001b[36m•\u001b[39m `` -> `...11`\n"
     ]
    }
   ],
   "source": [
    "university_majors = readr::read_csv(file = '../data/lec01/data.csv', show_col_types = FALSE)\n",
    "university_majors = university_majors[, c('Academic Yr', 'Semester', 'Ungrad Grad', \n",
    "                                           'Entry Status', 'Major Short Nm', 'Student Headcount')]"
   ]
  },
  {
   "cell_type": "code",
   "execution_count": 82,
   "id": "49e1989d",
   "metadata": {
    "scrolled": true
   },
   "outputs": [
    {
     "data": {
      "text/html": [
       "<table class=\"dataframe\">\n",
       "<caption>A grouped_df: 6 × 5</caption>\n",
       "<thead>\n",
       "\t<tr><th scope=col>Academic Yr</th><th scope=col>Ungrad Grad</th><th scope=col>Entry Status</th><th scope=col>Major Short Nm</th><th scope=col>Student Headcount</th></tr>\n",
       "\t<tr><th scope=col>&lt;chr&gt;</th><th scope=col>&lt;chr&gt;</th><th scope=col>&lt;chr&gt;</th><th scope=col>&lt;chr&gt;</th><th scope=col>&lt;dbl&gt;</th></tr>\n",
       "</thead>\n",
       "<tbody>\n",
       "\t<tr><td>2014-15</td><td>Graduate</td><td>Graduate</td><td>African American Studies</td><td>30.0</td></tr>\n",
       "\t<tr><td>2014-15</td><td>Graduate</td><td>Graduate</td><td>Ag &amp; Resource Economics </td><td>73.5</td></tr>\n",
       "\t<tr><td>2014-15</td><td>Graduate</td><td>Graduate</td><td>Anc Hist &amp; Medit Archae </td><td>14.0</td></tr>\n",
       "\t<tr><td>2014-15</td><td>Graduate</td><td>Graduate</td><td>Anthropology            </td><td>76.5</td></tr>\n",
       "\t<tr><td>2014-15</td><td>Graduate</td><td>Graduate</td><td>Applied Mathematics     </td><td>18.5</td></tr>\n",
       "\t<tr><td>2014-15</td><td>Graduate</td><td>Graduate</td><td><span style=white-space:pre-wrap>Applied Science &amp; Tech  </span></td><td>42.5</td></tr>\n",
       "</tbody>\n",
       "</table>\n"
      ],
      "text/latex": [
       "A grouped\\_df: 6 × 5\n",
       "\\begin{tabular}{lllll}\n",
       " Academic Yr & Ungrad Grad & Entry Status & Major Short Nm & Student Headcount\\\\\n",
       " <chr> & <chr> & <chr> & <chr> & <dbl>\\\\\n",
       "\\hline\n",
       "\t 2014-15 & Graduate & Graduate & African American Studies & 30.0\\\\\n",
       "\t 2014-15 & Graduate & Graduate & Ag \\& Resource Economics  & 73.5\\\\\n",
       "\t 2014-15 & Graduate & Graduate & Anc Hist \\& Medit Archae  & 14.0\\\\\n",
       "\t 2014-15 & Graduate & Graduate & Anthropology             & 76.5\\\\\n",
       "\t 2014-15 & Graduate & Graduate & Applied Mathematics      & 18.5\\\\\n",
       "\t 2014-15 & Graduate & Graduate & Applied Science \\& Tech   & 42.5\\\\\n",
       "\\end{tabular}\n"
      ],
      "text/markdown": [
       "\n",
       "A grouped_df: 6 × 5\n",
       "\n",
       "| Academic Yr &lt;chr&gt; | Ungrad Grad &lt;chr&gt; | Entry Status &lt;chr&gt; | Major Short Nm &lt;chr&gt; | Student Headcount &lt;dbl&gt; |\n",
       "|---|---|---|---|---|\n",
       "| 2014-15 | Graduate | Graduate | African American Studies | 30.0 |\n",
       "| 2014-15 | Graduate | Graduate | Ag &amp; Resource Economics  | 73.5 |\n",
       "| 2014-15 | Graduate | Graduate | Anc Hist &amp; Medit Archae  | 14.0 |\n",
       "| 2014-15 | Graduate | Graduate | Anthropology             | 76.5 |\n",
       "| 2014-15 | Graduate | Graduate | Applied Mathematics      | 18.5 |\n",
       "| 2014-15 | Graduate | Graduate | Applied Science &amp; Tech   | 42.5 |\n",
       "\n"
      ],
      "text/plain": [
       "  Academic Yr Ungrad Grad Entry Status Major Short Nm          \n",
       "1 2014-15     Graduate    Graduate     African American Studies\n",
       "2 2014-15     Graduate    Graduate     Ag & Resource Economics \n",
       "3 2014-15     Graduate    Graduate     Anc Hist & Medit Archae \n",
       "4 2014-15     Graduate    Graduate     Anthropology            \n",
       "5 2014-15     Graduate    Graduate     Applied Mathematics     \n",
       "6 2014-15     Graduate    Graduate     Applied Science & Tech  \n",
       "  Student Headcount\n",
       "1 30.0             \n",
       "2 73.5             \n",
       "3 14.0             \n",
       "4 76.5             \n",
       "5 18.5             \n",
       "6 42.5             "
      ]
     },
     "metadata": {},
     "output_type": "display_data"
    }
   ],
   "source": [
    "university_majors %>% head()"
   ]
  },
  {
   "cell_type": "code",
   "execution_count": 64,
   "id": "1a078688",
   "metadata": {},
   "outputs": [
    {
     "name": "stderr",
     "output_type": "stream",
     "text": [
      "\u001b[1m\u001b[22m`summarise()` has grouped output by 'Academic Yr', 'Ungrad Grad', 'Entry\n",
      "Status'. You can override using the `.groups` argument.\n"
     ]
    }
   ],
   "source": [
    "university_majors <- university_majors  %>% \n",
    "    group_by(`Academic Yr`, `Ungrad Grad`, `Entry Status`, `Major Short Nm`)  %>% \n",
    "    summarise(`Student Headcount` = mean(`Student Headcount`))"
   ]
  },
  {
   "cell_type": "code",
   "execution_count": 65,
   "id": "489c99ac",
   "metadata": {},
   "outputs": [
    {
     "data": {
      "text/html": [
       "<table class=\"dataframe\">\n",
       "<caption>A grouped_df: 6 × 5</caption>\n",
       "<thead>\n",
       "\t<tr><th scope=col>Academic Yr</th><th scope=col>Ungrad Grad</th><th scope=col>Entry Status</th><th scope=col>Major Short Nm</th><th scope=col>Student Headcount</th></tr>\n",
       "\t<tr><th scope=col>&lt;chr&gt;</th><th scope=col>&lt;chr&gt;</th><th scope=col>&lt;chr&gt;</th><th scope=col>&lt;chr&gt;</th><th scope=col>&lt;dbl&gt;</th></tr>\n",
       "</thead>\n",
       "<tbody>\n",
       "\t<tr><td>2014-15</td><td>Graduate</td><td>Graduate</td><td>African American Studies</td><td>30.0</td></tr>\n",
       "\t<tr><td>2014-15</td><td>Graduate</td><td>Graduate</td><td>Ag &amp; Resource Economics </td><td>73.5</td></tr>\n",
       "\t<tr><td>2014-15</td><td>Graduate</td><td>Graduate</td><td>Anc Hist &amp; Medit Archae </td><td>14.0</td></tr>\n",
       "\t<tr><td>2014-15</td><td>Graduate</td><td>Graduate</td><td>Anthropology            </td><td>76.5</td></tr>\n",
       "\t<tr><td>2014-15</td><td>Graduate</td><td>Graduate</td><td>Applied Mathematics     </td><td>18.5</td></tr>\n",
       "\t<tr><td>2014-15</td><td>Graduate</td><td>Graduate</td><td><span style=white-space:pre-wrap>Applied Science &amp; Tech  </span></td><td>42.5</td></tr>\n",
       "</tbody>\n",
       "</table>\n"
      ],
      "text/latex": [
       "A grouped\\_df: 6 × 5\n",
       "\\begin{tabular}{lllll}\n",
       " Academic Yr & Ungrad Grad & Entry Status & Major Short Nm & Student Headcount\\\\\n",
       " <chr> & <chr> & <chr> & <chr> & <dbl>\\\\\n",
       "\\hline\n",
       "\t 2014-15 & Graduate & Graduate & African American Studies & 30.0\\\\\n",
       "\t 2014-15 & Graduate & Graduate & Ag \\& Resource Economics  & 73.5\\\\\n",
       "\t 2014-15 & Graduate & Graduate & Anc Hist \\& Medit Archae  & 14.0\\\\\n",
       "\t 2014-15 & Graduate & Graduate & Anthropology             & 76.5\\\\\n",
       "\t 2014-15 & Graduate & Graduate & Applied Mathematics      & 18.5\\\\\n",
       "\t 2014-15 & Graduate & Graduate & Applied Science \\& Tech   & 42.5\\\\\n",
       "\\end{tabular}\n"
      ],
      "text/markdown": [
       "\n",
       "A grouped_df: 6 × 5\n",
       "\n",
       "| Academic Yr &lt;chr&gt; | Ungrad Grad &lt;chr&gt; | Entry Status &lt;chr&gt; | Major Short Nm &lt;chr&gt; | Student Headcount &lt;dbl&gt; |\n",
       "|---|---|---|---|---|\n",
       "| 2014-15 | Graduate | Graduate | African American Studies | 30.0 |\n",
       "| 2014-15 | Graduate | Graduate | Ag &amp; Resource Economics  | 73.5 |\n",
       "| 2014-15 | Graduate | Graduate | Anc Hist &amp; Medit Archae  | 14.0 |\n",
       "| 2014-15 | Graduate | Graduate | Anthropology             | 76.5 |\n",
       "| 2014-15 | Graduate | Graduate | Applied Mathematics      | 18.5 |\n",
       "| 2014-15 | Graduate | Graduate | Applied Science &amp; Tech   | 42.5 |\n",
       "\n"
      ],
      "text/plain": [
       "  Academic Yr Ungrad Grad Entry Status Major Short Nm          \n",
       "1 2014-15     Graduate    Graduate     African American Studies\n",
       "2 2014-15     Graduate    Graduate     Ag & Resource Economics \n",
       "3 2014-15     Graduate    Graduate     Anc Hist & Medit Archae \n",
       "4 2014-15     Graduate    Graduate     Anthropology            \n",
       "5 2014-15     Graduate    Graduate     Applied Mathematics     \n",
       "6 2014-15     Graduate    Graduate     Applied Science & Tech  \n",
       "  Student Headcount\n",
       "1 30.0             \n",
       "2 73.5             \n",
       "3 14.0             \n",
       "4 76.5             \n",
       "5 18.5             \n",
       "6 42.5             "
      ]
     },
     "metadata": {},
     "output_type": "display_data"
    }
   ],
   "source": [
    "university_majors %>% head()"
   ]
  },
  {
   "cell_type": "code",
   "execution_count": 66,
   "id": "926c04f9",
   "metadata": {},
   "outputs": [
    {
     "name": "stderr",
     "output_type": "stream",
     "text": [
      "\u001b[1m\u001b[22m`summarise()` has grouped output by 'Academic Yr'. You can override using the\n",
      "`.groups` argument.\n"
     ]
    }
   ],
   "source": [
    "university_grad_vs_ungrd  <- university_majors %>% \n",
    "    group_by(`Academic Yr`, `Ungrad Grad`) %>% \n",
    "    summarise(`Student Headcount` = sum(`Student Headcount` ))"
   ]
  },
  {
   "cell_type": "code",
   "execution_count": 74,
   "id": "e435a1bc",
   "metadata": {},
   "outputs": [],
   "source": [
    "proportions = university_grad_vs_ungrd %>% \n",
    "    pivot_wider(names_from = `Ungrad Grad`,\n",
    "                values_from = `Student Headcount`) %>% \n",
    "    mutate(Total = Undergraduate + Graduate) %>% \n",
    "    mutate(`Undergrad Proportion` = Undergraduate / Total) %>% \n",
    "    mutate(`Grad Proportion` = Graduate / Total)"
   ]
  },
  {
   "cell_type": "code",
   "execution_count": 76,
   "id": "7cefbe45",
   "metadata": {},
   "outputs": [
    {
     "data": {
      "text/html": [
       "<table class=\"dataframe\">\n",
       "<caption>A grouped_df: 6 × 6</caption>\n",
       "<thead>\n",
       "\t<tr><th scope=col>Academic Yr</th><th scope=col>Graduate</th><th scope=col>Undergraduate</th><th scope=col>Total</th><th scope=col>Undergrad Proportion</th><th scope=col>Grad Proportion</th></tr>\n",
       "\t<tr><th scope=col>&lt;chr&gt;</th><th scope=col>&lt;dbl&gt;</th><th scope=col>&lt;dbl&gt;</th><th scope=col>&lt;dbl&gt;</th><th scope=col>&lt;dbl&gt;</th><th scope=col>&lt;dbl&gt;</th></tr>\n",
       "</thead>\n",
       "<tbody>\n",
       "\t<tr><td>2014-15</td><td>10434.0</td><td>28595.0</td><td>39029.0</td><td>0.7326603</td><td>0.2673397</td></tr>\n",
       "\t<tr><td>2015-16</td><td>10681.0</td><td>28818.0</td><td>39499.0</td><td>0.7295881</td><td>0.2704119</td></tr>\n",
       "\t<tr><td>2016-17</td><td>10908.5</td><td>30132.0</td><td>41040.5</td><td>0.7342016</td><td>0.2657984</td></tr>\n",
       "\t<tr><td>2017-18</td><td>11446.0</td><td>31581.0</td><td>43027.0</td><td>0.7339810</td><td>0.2660190</td></tr>\n",
       "\t<tr><td>2018-19</td><td>11768.5</td><td>32219.5</td><td>43988.0</td><td>0.7324611</td><td>0.2675389</td></tr>\n",
       "\t<tr><td>2019-20</td><td>11920.0</td><td>32896.0</td><td>44816.0</td><td>0.7340236</td><td>0.2659764</td></tr>\n",
       "</tbody>\n",
       "</table>\n"
      ],
      "text/latex": [
       "A grouped\\_df: 6 × 6\n",
       "\\begin{tabular}{llllll}\n",
       " Academic Yr & Graduate & Undergraduate & Total & Undergrad Proportion & Grad Proportion\\\\\n",
       " <chr> & <dbl> & <dbl> & <dbl> & <dbl> & <dbl>\\\\\n",
       "\\hline\n",
       "\t 2014-15 & 10434.0 & 28595.0 & 39029.0 & 0.7326603 & 0.2673397\\\\\n",
       "\t 2015-16 & 10681.0 & 28818.0 & 39499.0 & 0.7295881 & 0.2704119\\\\\n",
       "\t 2016-17 & 10908.5 & 30132.0 & 41040.5 & 0.7342016 & 0.2657984\\\\\n",
       "\t 2017-18 & 11446.0 & 31581.0 & 43027.0 & 0.7339810 & 0.2660190\\\\\n",
       "\t 2018-19 & 11768.5 & 32219.5 & 43988.0 & 0.7324611 & 0.2675389\\\\\n",
       "\t 2019-20 & 11920.0 & 32896.0 & 44816.0 & 0.7340236 & 0.2659764\\\\\n",
       "\\end{tabular}\n"
      ],
      "text/markdown": [
       "\n",
       "A grouped_df: 6 × 6\n",
       "\n",
       "| Academic Yr &lt;chr&gt; | Graduate &lt;dbl&gt; | Undergraduate &lt;dbl&gt; | Total &lt;dbl&gt; | Undergrad Proportion &lt;dbl&gt; | Grad Proportion &lt;dbl&gt; |\n",
       "|---|---|---|---|---|---|\n",
       "| 2014-15 | 10434.0 | 28595.0 | 39029.0 | 0.7326603 | 0.2673397 |\n",
       "| 2015-16 | 10681.0 | 28818.0 | 39499.0 | 0.7295881 | 0.2704119 |\n",
       "| 2016-17 | 10908.5 | 30132.0 | 41040.5 | 0.7342016 | 0.2657984 |\n",
       "| 2017-18 | 11446.0 | 31581.0 | 43027.0 | 0.7339810 | 0.2660190 |\n",
       "| 2018-19 | 11768.5 | 32219.5 | 43988.0 | 0.7324611 | 0.2675389 |\n",
       "| 2019-20 | 11920.0 | 32896.0 | 44816.0 | 0.7340236 | 0.2659764 |\n",
       "\n"
      ],
      "text/plain": [
       "  Academic Yr Graduate Undergraduate Total   Undergrad Proportion\n",
       "1 2014-15     10434.0  28595.0       39029.0 0.7326603           \n",
       "2 2015-16     10681.0  28818.0       39499.0 0.7295881           \n",
       "3 2016-17     10908.5  30132.0       41040.5 0.7342016           \n",
       "4 2017-18     11446.0  31581.0       43027.0 0.7339810           \n",
       "5 2018-19     11768.5  32219.5       43988.0 0.7324611           \n",
       "6 2019-20     11920.0  32896.0       44816.0 0.7340236           \n",
       "  Grad Proportion\n",
       "1 0.2673397      \n",
       "2 0.2704119      \n",
       "3 0.2657984      \n",
       "4 0.2660190      \n",
       "5 0.2675389      \n",
       "6 0.2659764      "
      ]
     },
     "metadata": {},
     "output_type": "display_data"
    }
   ],
   "source": [
    "proportions %>% head()"
   ]
  },
  {
   "cell_type": "code",
   "execution_count": 77,
   "id": "c979b827",
   "metadata": {},
   "outputs": [],
   "source": [
    "proportions_long <- proportions %>%\n",
    "  pivot_longer(cols = Graduate:Undergraduate,\n",
    "               names_to = 'Ungrad Grad', \n",
    "               values_to = 'Student Headcount')"
   ]
  },
  {
   "cell_type": "code",
   "execution_count": 94,
   "id": "bfc60fb5",
   "metadata": {
    "scrolled": true
   },
   "outputs": [
    {
     "data": {
      "text/html": [
       "<table class=\"dataframe\">\n",
       "<caption>A grouped_df: 6 × 6</caption>\n",
       "<thead>\n",
       "\t<tr><th scope=col>Academic Yr</th><th scope=col>Total</th><th scope=col>Undergrad Proportion</th><th scope=col>Grad Proportion</th><th scope=col>Ungrad Grad</th><th scope=col>Student Headcount</th></tr>\n",
       "\t<tr><th scope=col>&lt;chr&gt;</th><th scope=col>&lt;dbl&gt;</th><th scope=col>&lt;dbl&gt;</th><th scope=col>&lt;dbl&gt;</th><th scope=col>&lt;chr&gt;</th><th scope=col>&lt;dbl&gt;</th></tr>\n",
       "</thead>\n",
       "<tbody>\n",
       "\t<tr><td>2014-15</td><td>39029.0</td><td>0.7326603</td><td>0.2673397</td><td>Graduate     </td><td>10434.0</td></tr>\n",
       "\t<tr><td>2014-15</td><td>39029.0</td><td>0.7326603</td><td>0.2673397</td><td>Undergraduate</td><td>28595.0</td></tr>\n",
       "\t<tr><td>2015-16</td><td>39499.0</td><td>0.7295881</td><td>0.2704119</td><td>Graduate     </td><td>10681.0</td></tr>\n",
       "\t<tr><td>2015-16</td><td>39499.0</td><td>0.7295881</td><td>0.2704119</td><td>Undergraduate</td><td>28818.0</td></tr>\n",
       "\t<tr><td>2016-17</td><td>41040.5</td><td>0.7342016</td><td>0.2657984</td><td>Graduate     </td><td>10908.5</td></tr>\n",
       "\t<tr><td>2016-17</td><td>41040.5</td><td>0.7342016</td><td>0.2657984</td><td>Undergraduate</td><td>30132.0</td></tr>\n",
       "</tbody>\n",
       "</table>\n"
      ],
      "text/latex": [
       "A grouped\\_df: 6 × 6\n",
       "\\begin{tabular}{llllll}\n",
       " Academic Yr & Total & Undergrad Proportion & Grad Proportion & Ungrad Grad & Student Headcount\\\\\n",
       " <chr> & <dbl> & <dbl> & <dbl> & <chr> & <dbl>\\\\\n",
       "\\hline\n",
       "\t 2014-15 & 39029.0 & 0.7326603 & 0.2673397 & Graduate      & 10434.0\\\\\n",
       "\t 2014-15 & 39029.0 & 0.7326603 & 0.2673397 & Undergraduate & 28595.0\\\\\n",
       "\t 2015-16 & 39499.0 & 0.7295881 & 0.2704119 & Graduate      & 10681.0\\\\\n",
       "\t 2015-16 & 39499.0 & 0.7295881 & 0.2704119 & Undergraduate & 28818.0\\\\\n",
       "\t 2016-17 & 41040.5 & 0.7342016 & 0.2657984 & Graduate      & 10908.5\\\\\n",
       "\t 2016-17 & 41040.5 & 0.7342016 & 0.2657984 & Undergraduate & 30132.0\\\\\n",
       "\\end{tabular}\n"
      ],
      "text/markdown": [
       "\n",
       "A grouped_df: 6 × 6\n",
       "\n",
       "| Academic Yr &lt;chr&gt; | Total &lt;dbl&gt; | Undergrad Proportion &lt;dbl&gt; | Grad Proportion &lt;dbl&gt; | Ungrad Grad &lt;chr&gt; | Student Headcount &lt;dbl&gt; |\n",
       "|---|---|---|---|---|---|\n",
       "| 2014-15 | 39029.0 | 0.7326603 | 0.2673397 | Graduate      | 10434.0 |\n",
       "| 2014-15 | 39029.0 | 0.7326603 | 0.2673397 | Undergraduate | 28595.0 |\n",
       "| 2015-16 | 39499.0 | 0.7295881 | 0.2704119 | Graduate      | 10681.0 |\n",
       "| 2015-16 | 39499.0 | 0.7295881 | 0.2704119 | Undergraduate | 28818.0 |\n",
       "| 2016-17 | 41040.5 | 0.7342016 | 0.2657984 | Graduate      | 10908.5 |\n",
       "| 2016-17 | 41040.5 | 0.7342016 | 0.2657984 | Undergraduate | 30132.0 |\n",
       "\n"
      ],
      "text/plain": [
       "  Academic Yr Total   Undergrad Proportion Grad Proportion Ungrad Grad  \n",
       "1 2014-15     39029.0 0.7326603            0.2673397       Graduate     \n",
       "2 2014-15     39029.0 0.7326603            0.2673397       Undergraduate\n",
       "3 2015-16     39499.0 0.7295881            0.2704119       Graduate     \n",
       "4 2015-16     39499.0 0.7295881            0.2704119       Undergraduate\n",
       "5 2016-17     41040.5 0.7342016            0.2657984       Graduate     \n",
       "6 2016-17     41040.5 0.7342016            0.2657984       Undergraduate\n",
       "  Student Headcount\n",
       "1 10434.0          \n",
       "2 28595.0          \n",
       "3 10681.0          \n",
       "4 28818.0          \n",
       "5 10908.5          \n",
       "6 30132.0          "
      ]
     },
     "metadata": {},
     "output_type": "display_data"
    }
   ],
   "source": [
    "proportions_long %>% head()"
   ]
  },
  {
   "cell_type": "code",
   "execution_count": 81,
   "id": "cc46496b",
   "metadata": {},
   "outputs": [
    {
     "data": {
      "image/png": "[encoded data removed]",
      "text/plain": [
       "plot without title"
      ]
     },
     "metadata": {
      "image/png": {
       "height": 420,
       "width": 420
      }
     },
     "output_type": "display_data"
    }
   ],
   "source": [
    "ggplot(proportions_long, aes(x = `Academic Yr`, y = `Student Headcount`, fill = `Ungrad Grad`)) +\n",
    "  geom_bar(stat = 'identity', position = 'stack') +\n",
    "    scale_fill_manual(values = c('Undergraduate' = 'blue', 'Graduate' = 'orange')) +\n",
    "    labs(title = \"Number of Grad vs. Undergrad Students\", y = 'Number of Students')"
   ]
  },
  {
   "cell_type": "markdown",
   "id": "be246a78",
   "metadata": {},
   "source": [
    "## 4.1. Ratio between graduate and undergraduate students in Data 100, and its comparison with campus distribution"
   ]
  },
  {
   "cell_type": "code",
   "execution_count": 93,
   "id": "193b0a6e",
   "metadata": {},
   "outputs": [
    {
     "name": "stdout",
     "output_type": "stream",
     "text": [
      "[1] \"Number of graduate students in Data 100:  124\"\n",
      "[1] \"Number of undergraduate students in Data 100:  1166\"\n"
     ]
    }
   ],
   "source": [
    "data100_grad  <- majors %>% \n",
    "    subset(`Ungrad Grad` == 'Graduate')  %>% \n",
    "    count()\n",
    "\n",
    "data100_undergrad  <- majors %>% \n",
    "    subset(`Ungrad Grad` == 'Undergraduate')  %>% \n",
    "    count()\n",
    "\n",
    "print(paste(\"Number of graduate students in Data 100: \", as.integer(data100_grad)))\n",
    "print(paste(\"Number of undergraduate students in Data 100: \", as.integer(data100_undergrad)))"
   ]
  },
  {
   "cell_type": "code",
   "execution_count": 95,
   "id": "423072f6",
   "metadata": {},
   "outputs": [],
   "source": [
    "proportions_long <- proportions %>%\n",
    "  pivot_longer(cols = `Undergrad Proportion`:`Grad Proportion`,\n",
    "               names_to = 'Ungrad Grad', \n",
    "               values_to = 'Student Proportion')"
   ]
  },
  {
   "cell_type": "code",
   "execution_count": 96,
   "id": "75d038a4",
   "metadata": {},
   "outputs": [
    {
     "data": {
      "text/html": [
       "<table class=\"dataframe\">\n",
       "<caption>A grouped_df: 6 × 6</caption>\n",
       "<thead>\n",
       "\t<tr><th scope=col>Academic Yr</th><th scope=col>Graduate</th><th scope=col>Undergraduate</th><th scope=col>Total</th><th scope=col>Ungrad Grad</th><th scope=col>Student Proportion</th></tr>\n",
       "\t<tr><th scope=col>&lt;chr&gt;</th><th scope=col>&lt;dbl&gt;</th><th scope=col>&lt;dbl&gt;</th><th scope=col>&lt;dbl&gt;</th><th scope=col>&lt;chr&gt;</th><th scope=col>&lt;dbl&gt;</th></tr>\n",
       "</thead>\n",
       "<tbody>\n",
       "\t<tr><td>2014-15</td><td>10434.0</td><td>28595</td><td>39029.0</td><td>Undergrad Proportion</td><td>0.7326603</td></tr>\n",
       "\t<tr><td>2014-15</td><td>10434.0</td><td>28595</td><td>39029.0</td><td>Grad Proportion     </td><td>0.2673397</td></tr>\n",
       "\t<tr><td>2015-16</td><td>10681.0</td><td>28818</td><td>39499.0</td><td>Undergrad Proportion</td><td>0.7295881</td></tr>\n",
       "\t<tr><td>2015-16</td><td>10681.0</td><td>28818</td><td>39499.0</td><td>Grad Proportion     </td><td>0.2704119</td></tr>\n",
       "\t<tr><td>2016-17</td><td>10908.5</td><td>30132</td><td>41040.5</td><td>Undergrad Proportion</td><td>0.7342016</td></tr>\n",
       "\t<tr><td>2016-17</td><td>10908.5</td><td>30132</td><td>41040.5</td><td>Grad Proportion     </td><td>0.2657984</td></tr>\n",
       "</tbody>\n",
       "</table>\n"
      ],
      "text/latex": [
       "A grouped\\_df: 6 × 6\n",
       "\\begin{tabular}{llllll}\n",
       " Academic Yr & Graduate & Undergraduate & Total & Ungrad Grad & Student Proportion\\\\\n",
       " <chr> & <dbl> & <dbl> & <dbl> & <chr> & <dbl>\\\\\n",
       "\\hline\n",
       "\t 2014-15 & 10434.0 & 28595 & 39029.0 & Undergrad Proportion & 0.7326603\\\\\n",
       "\t 2014-15 & 10434.0 & 28595 & 39029.0 & Grad Proportion      & 0.2673397\\\\\n",
       "\t 2015-16 & 10681.0 & 28818 & 39499.0 & Undergrad Proportion & 0.7295881\\\\\n",
       "\t 2015-16 & 10681.0 & 28818 & 39499.0 & Grad Proportion      & 0.2704119\\\\\n",
       "\t 2016-17 & 10908.5 & 30132 & 41040.5 & Undergrad Proportion & 0.7342016\\\\\n",
       "\t 2016-17 & 10908.5 & 30132 & 41040.5 & Grad Proportion      & 0.2657984\\\\\n",
       "\\end{tabular}\n"
      ],
      "text/markdown": [
       "\n",
       "A grouped_df: 6 × 6\n",
       "\n",
       "| Academic Yr &lt;chr&gt; | Graduate &lt;dbl&gt; | Undergraduate &lt;dbl&gt; | Total &lt;dbl&gt; | Ungrad Grad &lt;chr&gt; | Student Proportion &lt;dbl&gt; |\n",
       "|---|---|---|---|---|---|\n",
       "| 2014-15 | 10434.0 | 28595 | 39029.0 | Undergrad Proportion | 0.7326603 |\n",
       "| 2014-15 | 10434.0 | 28595 | 39029.0 | Grad Proportion      | 0.2673397 |\n",
       "| 2015-16 | 10681.0 | 28818 | 39499.0 | Undergrad Proportion | 0.7295881 |\n",
       "| 2015-16 | 10681.0 | 28818 | 39499.0 | Grad Proportion      | 0.2704119 |\n",
       "| 2016-17 | 10908.5 | 30132 | 41040.5 | Undergrad Proportion | 0.7342016 |\n",
       "| 2016-17 | 10908.5 | 30132 | 41040.5 | Grad Proportion      | 0.2657984 |\n",
       "\n"
      ],
      "text/plain": [
       "  Academic Yr Graduate Undergraduate Total   Ungrad Grad         \n",
       "1 2014-15     10434.0  28595         39029.0 Undergrad Proportion\n",
       "2 2014-15     10434.0  28595         39029.0 Grad Proportion     \n",
       "3 2015-16     10681.0  28818         39499.0 Undergrad Proportion\n",
       "4 2015-16     10681.0  28818         39499.0 Grad Proportion     \n",
       "5 2016-17     10908.5  30132         41040.5 Undergrad Proportion\n",
       "6 2016-17     10908.5  30132         41040.5 Grad Proportion     \n",
       "  Student Proportion\n",
       "1 0.7326603         \n",
       "2 0.2673397         \n",
       "3 0.7295881         \n",
       "4 0.2704119         \n",
       "5 0.7342016         \n",
       "6 0.2657984         "
      ]
     },
     "metadata": {},
     "output_type": "display_data"
    }
   ],
   "source": [
    "proportions_long %>% head()"
   ]
  },
  {
   "cell_type": "code",
   "execution_count": 97,
   "id": "b8d2f2da",
   "metadata": {},
   "outputs": [
    {
     "data": {
      "image/png": "[encoded data removed]",
      "text/plain": [
       "plot without title"
      ]
     },
     "metadata": {
      "image/png": {
       "height": 420,
       "width": 420
      }
     },
     "output_type": "display_data"
    }
   ],
   "source": [
    "ggplot(proportions_long, aes(x = `Academic Yr`, y = `Student Proportion`, fill = `Ungrad Grad`)) +\n",
    "  geom_bar(stat = 'identity', position = 'stack') +\n",
    "    scale_fill_manual(values = c('Undergrad Proportion' = 'blue', 'Grad Proportion' = 'orange')) +\n",
    "    labs(title = \"Proportions of Grad vs. Undergrad Students\", y = 'Proportion')"
   ]
  },
  {
   "cell_type": "code",
   "execution_count": null,
   "id": "ff27c10e",
   "metadata": {},
   "outputs": [],
   "source": []
  }
 ],
 "metadata": {
  "kernelspec": {
   "display_name": "ds100r",
   "language": "R",
   "name": "ds100r"
  },
  "language_info": {
   "codemirror_mode": "r",
   "file_extension": ".r",
   "mimetype": "text/x-r-source",
   "name": "R",
   "pygments_lexer": "r",
   "version": "4.4.1"
  }
 },
 "nbformat": 4,
 "nbformat_minor": 5
}
