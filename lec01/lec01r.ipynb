{
 "cells": [
  {
   "cell_type": "markdown",
   "id": "152003e1",
   "metadata": {},
   "source": [
    "## Software Packages\n",
    "\n",
    "We will be using a wide range of different R software packages. To install and manage these packages we will be using the Conda environment manager. The following is a list of packages we will routinely use in lectures and homeworks:"
   ]
  },
  {
   "cell_type": "code",
   "execution_count": 3,
   "id": "1e7cfc58",
   "metadata": {
    "scrolled": true
   },
   "outputs": [
    {
     "name": "stderr",
     "output_type": "stream",
     "text": [
      "── \u001b[1mAttaching core tidyverse packages\u001b[22m ──────────────────────── tidyverse 2.0.0 ──\n",
      "\u001b[32m✔\u001b[39m \u001b[34mdplyr    \u001b[39m 1.1.4     \u001b[32m✔\u001b[39m \u001b[34mreadr    \u001b[39m 2.1.5\n",
      "\u001b[32m✔\u001b[39m \u001b[34mforcats  \u001b[39m 1.0.0     \u001b[32m✔\u001b[39m \u001b[34mstringr  \u001b[39m 1.5.1\n",
      "\u001b[32m✔\u001b[39m \u001b[34mlubridate\u001b[39m 1.9.3     \u001b[32m✔\u001b[39m \u001b[34mtibble   \u001b[39m 3.2.1\n",
      "\u001b[32m✔\u001b[39m \u001b[34mpurrr    \u001b[39m 1.0.2     \u001b[32m✔\u001b[39m \u001b[34mtidyr    \u001b[39m 1.3.1\n",
      "── \u001b[1mConflicts\u001b[22m ────────────────────────────────────────── tidyverse_conflicts() ──\n",
      "\u001b[31m✖\u001b[39m \u001b[34mdplyr\u001b[39m::\u001b[32mfilter()\u001b[39m masks \u001b[34mstats\u001b[39m::filter()\n",
      "\u001b[31m✖\u001b[39m \u001b[34mdplyr\u001b[39m::\u001b[32mlag()\u001b[39m    masks \u001b[34mstats\u001b[39m::lag()\n",
      "\u001b[36mℹ\u001b[39m Use the conflicted package (\u001b[3m\u001b[34m<http://conflicted.r-lib.org/>\u001b[39m\u001b[23m) to force all conflicts to become errors\n"
     ]
    }
   ],
   "source": [
    "library(ggplot2)\n",
    "library(tidyverse)"
   ]
  },
  {
   "cell_type": "code",
   "execution_count": 9,
   "id": "fd55f86c",
   "metadata": {},
   "outputs": [],
   "source": [
    "?read.csv"
   ]
  },
  {
   "cell_type": "code",
   "execution_count": 22,
   "id": "00a9c2d7",
   "metadata": {},
   "outputs": [],
   "source": [
    "majors = readr::read_csv(file = '../data/lec01/majors.csv', show_col_types = FALSE)\n",
    "names = readr::read_csv(file = '../data/lec01/names.csv', show_col_types = FALSE)"
   ]
  },
  {
   "cell_type": "code",
   "execution_count": 23,
   "id": "18bbc8fd",
   "metadata": {},
   "outputs": [
    {
     "data": {
      "text/html": [
       "<table class=\"dataframe\">\n",
       "<caption>A tibble: 20 × 2</caption>\n",
       "<thead>\n",
       "\t<tr><th scope=col>Majors</th><th scope=col>Terms in Attendance</th></tr>\n",
       "\t<tr><th scope=col>&lt;chr&gt;</th><th scope=col>&lt;chr&gt;</th></tr>\n",
       "</thead>\n",
       "<tbody>\n",
       "\t<tr><td><span style=white-space:pre-wrap>Letters &amp; Sci Undeclared UG                            </span></td><td>3</td></tr>\n",
       "\t<tr><td>Data Science BA                                        </td><td>7</td></tr>\n",
       "\t<tr><td>Economics BA                                           </td><td>8</td></tr>\n",
       "\t<tr><td><span style=white-space:pre-wrap>Letters &amp; Sci Undeclared UG                            </span></td><td>5</td></tr>\n",
       "\t<tr><td>Economics BA                                           </td><td>7</td></tr>\n",
       "\t<tr><td>Computer Science BA, Economics BA                      </td><td>7</td></tr>\n",
       "\t<tr><td>Business Administration BS, Letters &amp; Sci Undeclared UG</td><td>5</td></tr>\n",
       "\t<tr><td><span style=white-space:pre-wrap>Letters &amp; Sci Undeclared UG                            </span></td><td>5</td></tr>\n",
       "\t<tr><td>Microbial Biology BS                                   </td><td>5</td></tr>\n",
       "\t<tr><td><span style=white-space:pre-wrap>Letters &amp; Sci Undeclared UG                            </span></td><td>8</td></tr>\n",
       "\t<tr><td><span style=white-space:pre-wrap>Letters &amp; Sci Undeclared UG                            </span></td><td>3</td></tr>\n",
       "\t<tr><td><span style=white-space:pre-wrap>Letters &amp; Sci Undeclared UG                            </span></td><td>5</td></tr>\n",
       "\t<tr><td>Data Science BA, Society and Environment BS            </td><td>5</td></tr>\n",
       "\t<tr><td><span style=white-space:pre-wrap>Letters &amp; Sci Undeclared UG                            </span></td><td>3</td></tr>\n",
       "\t<tr><td><span style=white-space:pre-wrap>Letters &amp; Sci Undeclared UG, Microbial Biology BS      </span></td><td>5</td></tr>\n",
       "\t<tr><td><span style=white-space:pre-wrap>Letters &amp; Sci Undeclared UG, Nutritional Science BS    </span></td><td>5</td></tr>\n",
       "\t<tr><td><span style=white-space:pre-wrap>Letters &amp; Sci Undeclared UG                            </span></td><td>3</td></tr>\n",
       "\t<tr><td>Chemistry BS                                           </td><td>5</td></tr>\n",
       "\t<tr><td>Applied Mathematics BA                                 </td><td>7</td></tr>\n",
       "\t<tr><td><span style=white-space:pre-wrap>Letters &amp; Sci Undeclared UG                            </span></td><td>3</td></tr>\n",
       "</tbody>\n",
       "</table>\n"
      ],
      "text/latex": [
       "A tibble: 20 × 2\n",
       "\\begin{tabular}{ll}\n",
       " Majors & Terms in Attendance\\\\\n",
       " <chr> & <chr>\\\\\n",
       "\\hline\n",
       "\t Letters \\& Sci Undeclared UG                             & 3\\\\\n",
       "\t Data Science BA                                         & 7\\\\\n",
       "\t Economics BA                                            & 8\\\\\n",
       "\t Letters \\& Sci Undeclared UG                             & 5\\\\\n",
       "\t Economics BA                                            & 7\\\\\n",
       "\t Computer Science BA, Economics BA                       & 7\\\\\n",
       "\t Business Administration BS, Letters \\& Sci Undeclared UG & 5\\\\\n",
       "\t Letters \\& Sci Undeclared UG                             & 5\\\\\n",
       "\t Microbial Biology BS                                    & 5\\\\\n",
       "\t Letters \\& Sci Undeclared UG                             & 8\\\\\n",
       "\t Letters \\& Sci Undeclared UG                             & 3\\\\\n",
       "\t Letters \\& Sci Undeclared UG                             & 5\\\\\n",
       "\t Data Science BA, Society and Environment BS             & 5\\\\\n",
       "\t Letters \\& Sci Undeclared UG                             & 3\\\\\n",
       "\t Letters \\& Sci Undeclared UG, Microbial Biology BS       & 5\\\\\n",
       "\t Letters \\& Sci Undeclared UG, Nutritional Science BS     & 5\\\\\n",
       "\t Letters \\& Sci Undeclared UG                             & 3\\\\\n",
       "\t Chemistry BS                                            & 5\\\\\n",
       "\t Applied Mathematics BA                                  & 7\\\\\n",
       "\t Letters \\& Sci Undeclared UG                             & 3\\\\\n",
       "\\end{tabular}\n"
      ],
      "text/markdown": [
       "\n",
       "A tibble: 20 × 2\n",
       "\n",
       "| Majors &lt;chr&gt; | Terms in Attendance &lt;chr&gt; |\n",
       "|---|---|\n",
       "| Letters &amp; Sci Undeclared UG                             | 3 |\n",
       "| Data Science BA                                         | 7 |\n",
       "| Economics BA                                            | 8 |\n",
       "| Letters &amp; Sci Undeclared UG                             | 5 |\n",
       "| Economics BA                                            | 7 |\n",
       "| Computer Science BA, Economics BA                       | 7 |\n",
       "| Business Administration BS, Letters &amp; Sci Undeclared UG | 5 |\n",
       "| Letters &amp; Sci Undeclared UG                             | 5 |\n",
       "| Microbial Biology BS                                    | 5 |\n",
       "| Letters &amp; Sci Undeclared UG                             | 8 |\n",
       "| Letters &amp; Sci Undeclared UG                             | 3 |\n",
       "| Letters &amp; Sci Undeclared UG                             | 5 |\n",
       "| Data Science BA, Society and Environment BS             | 5 |\n",
       "| Letters &amp; Sci Undeclared UG                             | 3 |\n",
       "| Letters &amp; Sci Undeclared UG, Microbial Biology BS       | 5 |\n",
       "| Letters &amp; Sci Undeclared UG, Nutritional Science BS     | 5 |\n",
       "| Letters &amp; Sci Undeclared UG                             | 3 |\n",
       "| Chemistry BS                                            | 5 |\n",
       "| Applied Mathematics BA                                  | 7 |\n",
       "| Letters &amp; Sci Undeclared UG                             | 3 |\n",
       "\n"
      ],
      "text/plain": [
       "   Majors                                                  Terms in Attendance\n",
       "1  Letters & Sci Undeclared UG                             3                  \n",
       "2  Data Science BA                                         7                  \n",
       "3  Economics BA                                            8                  \n",
       "4  Letters & Sci Undeclared UG                             5                  \n",
       "5  Economics BA                                            7                  \n",
       "6  Computer Science BA, Economics BA                       7                  \n",
       "7  Business Administration BS, Letters & Sci Undeclared UG 5                  \n",
       "8  Letters & Sci Undeclared UG                             5                  \n",
       "9  Microbial Biology BS                                    5                  \n",
       "10 Letters & Sci Undeclared UG                             8                  \n",
       "11 Letters & Sci Undeclared UG                             3                  \n",
       "12 Letters & Sci Undeclared UG                             5                  \n",
       "13 Data Science BA, Society and Environment BS             5                  \n",
       "14 Letters & Sci Undeclared UG                             3                  \n",
       "15 Letters & Sci Undeclared UG, Microbial Biology BS       5                  \n",
       "16 Letters & Sci Undeclared UG, Nutritional Science BS     5                  \n",
       "17 Letters & Sci Undeclared UG                             3                  \n",
       "18 Chemistry BS                                            5                  \n",
       "19 Applied Mathematics BA                                  7                  \n",
       "20 Letters & Sci Undeclared UG                             3                  "
      ]
     },
     "metadata": {},
     "output_type": "display_data"
    },
    {
     "data": {
      "text/html": [
       "<table class=\"dataframe\">\n",
       "<caption>A tibble: 6 × 2</caption>\n",
       "<thead>\n",
       "\t<tr><th scope=col>Name</th><th scope=col>Role</th></tr>\n",
       "\t<tr><th scope=col>&lt;chr&gt;</th><th scope=col>&lt;chr&gt;</th></tr>\n",
       "</thead>\n",
       "<tbody>\n",
       "\t<tr><td>Emily   </td><td>Student</td></tr>\n",
       "\t<tr><td>Zoe     </td><td>Student</td></tr>\n",
       "\t<tr><td>Michelle</td><td>Student</td></tr>\n",
       "\t<tr><td>JAMES   </td><td>Student</td></tr>\n",
       "\t<tr><td>Jenny   </td><td>Student</td></tr>\n",
       "\t<tr><td>James   </td><td>Student</td></tr>\n",
       "</tbody>\n",
       "</table>\n"
      ],
      "text/latex": [
       "A tibble: 6 × 2\n",
       "\\begin{tabular}{ll}\n",
       " Name & Role\\\\\n",
       " <chr> & <chr>\\\\\n",
       "\\hline\n",
       "\t Emily    & Student\\\\\n",
       "\t Zoe      & Student\\\\\n",
       "\t Michelle & Student\\\\\n",
       "\t JAMES    & Student\\\\\n",
       "\t Jenny    & Student\\\\\n",
       "\t James    & Student\\\\\n",
       "\\end{tabular}\n"
      ],
      "text/markdown": [
       "\n",
       "A tibble: 6 × 2\n",
       "\n",
       "| Name &lt;chr&gt; | Role &lt;chr&gt; |\n",
       "|---|---|\n",
       "| Emily    | Student |\n",
       "| Zoe      | Student |\n",
       "| Michelle | Student |\n",
       "| JAMES    | Student |\n",
       "| Jenny    | Student |\n",
       "| James    | Student |\n",
       "\n"
      ],
      "text/plain": [
       "  Name     Role   \n",
       "1 Emily    Student\n",
       "2 Zoe      Student\n",
       "3 Michelle Student\n",
       "4 JAMES    Student\n",
       "5 Jenny    Student\n",
       "6 James    Student"
      ]
     },
     "metadata": {},
     "output_type": "display_data"
    }
   ],
   "source": [
    "head(majors, n = 20)\n",
    "head(names)"
   ]
  },
  {
   "cell_type": "code",
   "execution_count": 30,
   "id": "1c95d9e9",
   "metadata": {},
   "outputs": [],
   "source": [
    "names[['Name']] = tolower(names[['Name']])"
   ]
  },
  {
   "cell_type": "code",
   "execution_count": 32,
   "id": "336a4817",
   "metadata": {},
   "outputs": [
    {
     "data": {
      "text/html": [
       "<table class=\"dataframe\">\n",
       "<caption>A tibble: 6 × 2</caption>\n",
       "<thead>\n",
       "\t<tr><th scope=col>Name</th><th scope=col>Role</th></tr>\n",
       "\t<tr><th scope=col>&lt;chr&gt;</th><th scope=col>&lt;chr&gt;</th></tr>\n",
       "</thead>\n",
       "<tbody>\n",
       "\t<tr><td>emily   </td><td>Student</td></tr>\n",
       "\t<tr><td>zoe     </td><td>Student</td></tr>\n",
       "\t<tr><td>michelle</td><td>Student</td></tr>\n",
       "\t<tr><td>james   </td><td>Student</td></tr>\n",
       "\t<tr><td>jenny   </td><td>Student</td></tr>\n",
       "\t<tr><td>james   </td><td>Student</td></tr>\n",
       "</tbody>\n",
       "</table>\n"
      ],
      "text/latex": [
       "A tibble: 6 × 2\n",
       "\\begin{tabular}{ll}\n",
       " Name & Role\\\\\n",
       " <chr> & <chr>\\\\\n",
       "\\hline\n",
       "\t emily    & Student\\\\\n",
       "\t zoe      & Student\\\\\n",
       "\t michelle & Student\\\\\n",
       "\t james    & Student\\\\\n",
       "\t jenny    & Student\\\\\n",
       "\t james    & Student\\\\\n",
       "\\end{tabular}\n"
      ],
      "text/markdown": [
       "\n",
       "A tibble: 6 × 2\n",
       "\n",
       "| Name &lt;chr&gt; | Role &lt;chr&gt; |\n",
       "|---|---|\n",
       "| emily    | Student |\n",
       "| zoe      | Student |\n",
       "| michelle | Student |\n",
       "| james    | Student |\n",
       "| jenny    | Student |\n",
       "| james    | Student |\n",
       "\n"
      ],
      "text/plain": [
       "  Name     Role   \n",
       "1 emily    Student\n",
       "2 zoe      Student\n",
       "3 michelle Student\n",
       "4 james    Student\n",
       "5 jenny    Student\n",
       "6 james    Student"
      ]
     },
     "metadata": {},
     "output_type": "display_data"
    }
   ],
   "source": [
    "head(names)"
   ]
  },
  {
   "cell_type": "code",
   "execution_count": null,
   "id": "0fdfbc21",
   "metadata": {},
   "outputs": [],
   "source": []
  }
 ],
 "metadata": {
  "kernelspec": {
   "display_name": "ds100r",
   "language": "R",
   "name": "ds100r"
  },
  "language_info": {
   "codemirror_mode": "r",
   "file_extension": ".r",
   "mimetype": "text/x-r-source",
   "name": "R",
   "pygments_lexer": "r",
   "version": "4.4.1"
  }
 },
 "nbformat": 4,
 "nbformat_minor": 5
}
